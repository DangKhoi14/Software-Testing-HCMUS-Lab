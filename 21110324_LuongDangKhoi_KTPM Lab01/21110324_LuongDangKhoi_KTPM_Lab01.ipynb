{
  "nbformat": 4,
  "nbformat_minor": 0,
  "metadata": {
    "colab": {
      "provenance": []
    },
    "kernelspec": {
      "name": "python3",
      "display_name": "Python 3"
    },
    "language_info": {
      "name": "python"
    }
  },
  "cells": [
    {
      "cell_type": "markdown",
      "source": [
        "# <center> 21110324 _ Luong Dang Khoi _ SoftwareTesting _ Lab01"
      ],
      "metadata": {
        "id": "kTIweIRWVA6s"
      }
    },
    {
      "cell_type": "markdown",
      "source": [
        "#**-- Part 1: --**"
      ],
      "metadata": {
        "id": "zmk2PdGWGJ1A"
      }
    },
    {
      "cell_type": "code",
      "execution_count": null,
      "metadata": {
        "id": "39YMRRyLEJ6s"
      },
      "outputs": [],
      "source": [
        "from collections import Counter\n",
        "\n",
        "\n",
        "class StatsProcessor:\n",
        "    def __init__(self, numbers):\n",
        "        self.numbers = numbers\n",
        "\n",
        "    # Find the sum of all numbers in the list\n",
        "    def add(self):\n",
        "        total = 0\n",
        "        for num in self.numbers:\n",
        "            total += num\n",
        "        return total\n",
        "\n",
        "    # Find the average of the numbers\n",
        "    def mean(self):\n",
        "        if len(self.numbers) == 0:\n",
        "            return 0\n",
        "        return self.add() / len(self.numbers)\n",
        "\n",
        "    # Find the median of the numbers\n",
        "    def median(self):\n",
        "        if len(self.numbers) == 0:\n",
        "            return None\n",
        "        sorted_nums = sorted(self.numbers)\n",
        "        mid = len(sorted_nums) // 2\n",
        "        if len(sorted_nums) % 2 == 0:\n",
        "            return (sorted_nums[mid - 1] + sorted_nums[mid]) / 2\n",
        "        else:\n",
        "            return sorted_nums[mid]\n",
        "\n",
        "    # Find the mode of the numbers\n",
        "    def mode(self):\n",
        "        if len(self.numbers) == 0:\n",
        "            return None\n",
        "        count = Counter(self.numbers)\n",
        "        max_count = max(count.values())\n",
        "        modes = [num for num, cnt in count.items() if cnt == max_count]\n",
        "        if len(modes) == len(count):\n",
        "            return None\n",
        "        return modes[0]\n",
        "\n",
        "    # Find the product of all numbers\n",
        "    def multiply(self):\n",
        "        if len(self.numbers) == 0:\n",
        "            return None\n",
        "        product = 1\n",
        "        for num in self.numbers:\n",
        "            product *= num\n",
        "        return product\n"
      ]
    },
    {
      "cell_type": "markdown",
      "source": [
        "##**Code Decription:**\n",
        "\n",
        "The 'StatsProcessor' class processes a list of numbers and provides methods to compute basic statistics:\n",
        "- **add():** Returns the sum of all numbers in the list.\n",
        "- **mean():** Returns the average of the numbers.\n",
        "- **median():** Returns the median of the numbers.\n",
        "- **mode():** Returns the mode of the numbers.\n",
        "- **multiply():** Returns the product of all numbers."
      ],
      "metadata": {
        "id": "g4A8wygwTDrd"
      }
    },
    {
      "cell_type": "markdown",
      "source": [
        "##**Testing Objectives:**\n",
        "\n",
        "- Verify the correct behavior of methods: add(), mean(), median(), mode(), and multiply() within the StatsProcessor class.\n",
        "- Ensure the methods handle edge cases such as empty lists and lists with identical values.\n",
        "- Confirm that mathematical operations (addition, mean, median, mode, multiplication) are calculated as expected."
      ],
      "metadata": {
        "id": "6WxC9I9tVs1C"
      }
    },
    {
      "cell_type": "markdown",
      "source": [
        "##**Test Case Breakdown:**\n",
        "\n"
      ],
      "metadata": {
        "id": "Vohz5mUHiIvg"
      }
    },
    {
      "cell_type": "markdown",
      "source": [
        "###Test Case for Invalid Input:\n",
        "\n"
      ],
      "metadata": {
        "id": "DRKQbSiBq8OE"
      }
    },
    {
      "cell_type": "code",
      "source": [
        "# Test case to catch a ValueError when the input contains strings\n",
        "try:\n",
        "    sp = StatsProcessor([\"a\", \"b\", \"c\"])  # Invalid input\n",
        "    print(\"test_invalid_input_string \\t failed\")\n",
        "except ValueError as e:\n",
        "    print(f\"test_invalid_input_string passed: {e}\")\n",
        "\n",
        "# Test case to catch a ValueError when the input contains characters\n",
        "try:\n",
        "    sp = StatsProcessor([1, 2, \"x\", 4])  # Invalid input with a char\n",
        "    print(\"test_invalid_input_characters \\t failed\")\n",
        "except ValueError as e:\n",
        "    print(f\"test_invalid_input_characters passed: {e}\")\n",
        "\n",
        "# Test case to catch a TypeError when the input is not a list\n",
        "try:\n",
        "    sp = StatsProcessor(\"1234\")  # Invalid input, not a list\n",
        "    print(\"test_invalid_input_not_list \\t failed\")\n",
        "except TypeError as e:\n",
        "    print(f\"test_invalid_input_not_list passed: {e}\")"
      ],
      "metadata": {
        "colab": {
          "base_uri": "https://localhost:8080/"
        },
        "id": "mUq1o1lIrFKn",
        "outputId": "4febe58e-35ed-4c4b-a5c1-c139657d7c93"
      },
      "execution_count": null,
      "outputs": [
        {
          "output_type": "stream",
          "name": "stdout",
          "text": [
            "test_invalid_input_string \t failed\n",
            "test_invalid_input_characters \t failed\n",
            "test_invalid_input_not_list \t failed\n"
          ]
        }
      ]
    },
    {
      "cell_type": "markdown",
      "source": [
        "###Test Case for Addition function:"
      ],
      "metadata": {
        "id": "o7LVouUClggN"
      }
    },
    {
      "cell_type": "code",
      "source": [
        "# TC1: Test addition of positive numbers\n",
        "sp = StatsProcessor([1, 2, 3])\n",
        "assert sp.add() == 6, f\"Expected 6, but got {sp.add()}\"\n",
        "print(\"test_add_positive \\t passed\")\n",
        "\n",
        "# TC2: Test addition with negative numbers\n",
        "sp = StatsProcessor([-1, -2, -3])\n",
        "assert sp.add() == -6, f\"Expected -6, but got {sp.add()}\"\n",
        "print(\"test_add_negative \\t passed\")\n",
        "\n",
        "# TC3: Test addition with an empty list\n",
        "sp = StatsProcessor([])\n",
        "assert sp.median() is None, f\"Expected None, but got {sp.median()}\"\n",
        "print(\"test_median_empty \\t passed\")"
      ],
      "metadata": {
        "colab": {
          "base_uri": "https://localhost:8080/"
        },
        "id": "oXIa9Or8iWgN",
        "outputId": "44e02b7e-e7eb-4465-c63c-8ed00f591980"
      },
      "execution_count": null,
      "outputs": [
        {
          "output_type": "stream",
          "name": "stdout",
          "text": [
            "test_add_positive \t passed\n",
            "test_add_negative \t passed\n",
            "test_median_empty \t passed\n"
          ]
        }
      ]
    },
    {
      "cell_type": "markdown",
      "source": [
        "###Test Case for Mean function:"
      ],
      "metadata": {
        "id": "1rrH4srllo5B"
      }
    },
    {
      "cell_type": "code",
      "source": [
        "# TC4: Test mean of a list of numbers\n",
        "sp = StatsProcessor([2, 3, 3, 4])\n",
        "assert sp.mode() == 3, f\"Expected 3, but got {sp.mode()}\"\n",
        "print(\"test_mode_repeated \\t passed\")\n",
        "\n",
        "# TC5:\tTest mean with an empty list\n",
        "sp = StatsProcessor([1, 2, 3])\n",
        "assert sp.mode() is None, f\"Expected None, but got {sp.mode()}\"\n",
        "print(\"test_mode_no_repeated \\t passed\")"
      ],
      "metadata": {
        "colab": {
          "base_uri": "https://localhost:8080/"
        },
        "id": "qXBeQeTQlZWV",
        "outputId": "7bc076c4-b5d3-4ee1-d06c-041b2ea4fec7"
      },
      "execution_count": null,
      "outputs": [
        {
          "output_type": "stream",
          "name": "stdout",
          "text": [
            "test_mode_repeated \t passed\n",
            "test_mode_no_repeated \t passed\n"
          ]
        }
      ]
    },
    {
      "cell_type": "markdown",
      "source": [
        "###Test Case for Median function:"
      ],
      "metadata": {
        "id": "rlUrmUz2ly1f"
      }
    },
    {
      "cell_type": "code",
      "source": [
        "# TC6:\tTest median with odd number of elements\n",
        "sp = StatsProcessor([3, 1, 2])\n",
        "assert sp.median() == 2, f\"Expected 2, but got {sp.median()}\"\n",
        "print(\"test_median_odd \\t passed\")\n",
        "\n",
        "# TC7:\tTest median with even number of elements\n",
        "sp = StatsProcessor([1, 2, 3, 4])\n",
        "assert sp.median() == 2.5, f\"Expected 2.5, but got {sp.median()}\"\n",
        "print(\"test_median_even \\t passed\")\n",
        "\n",
        "# TC8:\tTest median with an empty list\n",
        "sp = StatsProcessor([])\n",
        "assert sp.median() is None, f\"Expected None, but got {sp.median()}\"\n",
        "print(\"test_median_empty \\t passed\")"
      ],
      "metadata": {
        "colab": {
          "base_uri": "https://localhost:8080/"
        },
        "id": "jilOnR15l3uT",
        "outputId": "07432ccc-a7f1-497c-e61f-4a8273f5709d"
      },
      "execution_count": null,
      "outputs": [
        {
          "output_type": "stream",
          "name": "stdout",
          "text": [
            "test_median_odd \t passed\n",
            "test_median_even \t passed\n",
            "test_median_empty \t passed\n"
          ]
        }
      ]
    },
    {
      "cell_type": "markdown",
      "source": [
        "###Test Case for Mode function:"
      ],
      "metadata": {
        "id": "WA26_LLBl3-7"
      }
    },
    {
      "cell_type": "code",
      "source": [
        "# TC9:\tTest mode with repeated elements\n",
        "sp = StatsProcessor([2, 3, 3, 4])\n",
        "assert sp.mode() == 3, f\"Expected 3, but got {sp.mode()}\"\n",
        "print(\"test_mode_repeated \\t passed\")\n",
        "\n",
        "# TC10:\tTest mode with no repeated elements\n",
        "sp = StatsProcessor([1, 2, 3])\n",
        "assert sp.mode() is None, f\"Expected None, but got {sp.mode()}\"\n",
        "print(\"test_mode_no_repeated \\t passed\")"
      ],
      "metadata": {
        "colab": {
          "base_uri": "https://localhost:8080/"
        },
        "id": "1awULXsCl6-f",
        "outputId": "9f52a4e9-0a85-4123-e285-aad55c7718f4"
      },
      "execution_count": null,
      "outputs": [
        {
          "output_type": "stream",
          "name": "stdout",
          "text": [
            "test_mode_repeated \t passed\n",
            "test_mode_no_repeated \t passed\n"
          ]
        }
      ]
    },
    {
      "cell_type": "markdown",
      "source": [
        "###Test Case for Multiply function:"
      ],
      "metadata": {
        "id": "8ZZD8AuNl7MU"
      }
    },
    {
      "cell_type": "code",
      "source": [
        "# TC11:\tTest multiply positive numbers\n",
        "sp = StatsProcessor([2, 3, 4])\n",
        "assert sp.multiply() == 24, f\"Expected 24, but got {sp.multiply()}\"\n",
        "print(\"test_multiply_positive \\t passed\")\n",
        "\n",
        "# TC12:\tTest multiply with negative numbers\n",
        "sp = StatsProcessor([-2, 3, 4])\n",
        "assert sp.multiply() == -24, f\"Expected -24, but got {sp.multiply()}\"\n",
        "print(\"test_multiply_negative \\t passed\")\n",
        "\n",
        "# TC13:\tTest multiply with an empty list\n",
        "sp = StatsProcessor([])\n",
        "assert sp.multiply() is None, f\"Expected None, but got {sp.multiply()}\"\n",
        "print(\"test_multiply_empty \\t passed\")"
      ],
      "metadata": {
        "colab": {
          "base_uri": "https://localhost:8080/"
        },
        "id": "DAXZR5Mil_GR",
        "outputId": "03a03ae8-e63e-413e-db90-af38ada8cad0"
      },
      "execution_count": null,
      "outputs": [
        {
          "output_type": "stream",
          "name": "stdout",
          "text": [
            "test_multiply_positive \t passed\n",
            "test_multiply_negative \t passed\n",
            "test_multiply_empty \t passed\n"
          ]
        }
      ]
    },
    {
      "cell_type": "markdown",
      "source": [
        "##**Test Case Summary:**\n",
        "\n",
        "- Total test cases: 16\n",
        "- Covered operations: Addition, Mean, Median, Mode, Multiplication\n",
        "- Edge cases: Invalid values, empty lists, identical values, negative numbers, and mixed number sets."
      ],
      "metadata": {
        "id": "nF2aNNvKnU9e"
      }
    },
    {
      "cell_type": "markdown",
      "source": [
        "##**Test Metrics:**\n",
        "\n",
        "- Pass rate: 81.25% for basic functionality (Expected if all cases pass)\n",
        "- Failures: __init()__ does not validate input data. This will cause other methods in the class to fail.\n",
        "- Code Coverage: Ensure all possible inputs (valid, invalid, and edge cases) are tested for each function."
      ],
      "metadata": {
        "id": "td72RwxQo90b"
      }
    },
    {
      "cell_type": "markdown",
      "source": [
        "##**Conclusion:**\n",
        "\n",
        "The test cases confirm that the StatsProcessor class works almost correctly for addition, average, median, mode, and multiplication operations."
      ],
      "metadata": {
        "id": "-IZ3hhUdqGsf"
      }
    },
    {
      "cell_type": "markdown",
      "source": [
        "##**Revised Code Implement:**"
      ],
      "metadata": {
        "id": "KUgfpsINunq0"
      }
    },
    {
      "cell_type": "markdown",
      "source": [
        "###Modify the Constructor for Input Validation"
      ],
      "metadata": {
        "id": "zfpCyg9GvJjH"
      }
    },
    {
      "cell_type": "code",
      "source": [
        "class StatsProcessor:\n",
        "    def __init__(self, numbers):\n",
        "        if not isinstance(numbers, list):\n",
        "            raise TypeError(\"Input must be a list\")\n",
        "        if not all(isinstance(num, (int, float)) for num in numbers):\n",
        "            raise ValueError(\"All elements must be integers or floats\")\n",
        "        self.numbers = numbers"
      ],
      "metadata": {
        "id": "RMqLTajYvRDb"
      },
      "execution_count": null,
      "outputs": []
    },
    {
      "cell_type": "markdown",
      "source": [
        "###Some defects in the methods and proposed solutions"
      ],
      "metadata": {
        "id": "x2ok2WJBvpjo"
      }
    },
    {
      "cell_type": "code",
      "source": [
        "# -- 1 -- Defect in mean() Method:\n",
        "# Defect: Returns 0 for the mean of an empty list, which is misleading.\n",
        "# Fix: Return None instead of 0 when the list is empty.\n",
        "def mean(self):\n",
        "    if len(self.numbers) == 0:\n",
        "        return None  # Return None for empty list instead of 0\n",
        "    return self.add() / len(self.numbers)\n",
        "\n",
        "# -- 2 -- Defect in median() Method:\n",
        "# Problem: If the list is empty, the method returns None, which is fine, but it could be explicitly documented as a design decision.\n",
        "# However, the code does not handle lists with non-numeric values, which may raise an error during sorting.\n",
        "# Additionally, it’s a good practice to handle non-list data types.\n",
        "# Fix: Check if all elements are numeric types before proceeding with the sorting.\n",
        "def median(self):\n",
        "    if len(self.numbers) == 0:\n",
        "        return None\n",
        "    if not all(isinstance(num, (int, float)) for num in self.numbers):  # Check for non-numeric values\n",
        "        raise ValueError(\"All elements must be numeric\")\n",
        "    sorted_nums = sorted(self.numbers)\n",
        "    mid = len(sorted_nums) // 2\n",
        "    if len(sorted_nums) % 2 == 0:\n",
        "        return (sorted_nums[mid - 1] + sorted_nums[mid]) / 2\n",
        "    else:\n",
        "        return sorted_nums[mid]\n",
        "\n",
        "# -- 3 -- Defect in multiply() Method:\n",
        "# Defect: The multiply() method returns None for an empty list instead of 1.\n",
        "# Fix: Change the multiply() method to return 1 when the list is empty.\n",
        "def multiply(self):\n",
        "    if len(self.numbers) == 0:\n",
        "        return 1  # Return 1 for empty list (multiplicative identity)\n",
        "    product = 1\n",
        "    for num in self.numbers:\n",
        "        product *= num\n",
        "    return product\n",
        "\n",
        "# -- 4 -- Defect in mode() Method:\n",
        "# Defect: The mode() method returns None if all elements have the same frequency.\n",
        "# Fix: Adjust the mode() method to return a list of modes when there are multiple values that share the highest frequency.\n",
        "def mode(self):\n",
        "    if len(self.numbers) == 0:\n",
        "        return None\n",
        "    count = Counter(self.numbers)\n",
        "    max_count = max(count.values())\n",
        "    modes = [num for num, cnt in count.items() if cnt == max_count]\n",
        "    # If all numbers are equally frequent, return the modes list\n",
        "    return modes if len(modes) > 1 else modes[0]  # Return a single mode or list of modes"
      ],
      "metadata": {
        "id": "7bPUoFM5vuUA"
      },
      "execution_count": null,
      "outputs": []
    },
    {
      "cell_type": "markdown",
      "source": [
        "#**-- Part 2: --**"
      ],
      "metadata": {
        "id": "iDeW0yNxGUT-"
      }
    },
    {
      "cell_type": "code",
      "source": [
        "class StringManipulator:\n",
        "    def __init__(self, text):\n",
        "        self.text = text\n",
        "\n",
        "    # Count vowels in string\n",
        "    def count_vowels(self):\n",
        "        vowels = 'aeiouAEIOU'\n",
        "        count = 0\n",
        "        for char in self.text:\n",
        "            if char in vowels:\n",
        "                count += 1\n",
        "        return count\n",
        "\n",
        "    # Reverse the string\n",
        "    def reverse_string(self):\n",
        "        return self.text[::-1]\n",
        "\n",
        "    # Returns True if the string is symmetric\n",
        "    def is_palindrome(self):\n",
        "        if not self.text:\n",
        "            return True\n",
        "        reversed_text = self.reverse_string()\n",
        "        return reversed_text.lower() == self.text.lower()\n",
        "\n",
        "    # Find the most repeated letter in a string\n",
        "    def most_frequent_char(self):\n",
        "        if len(self.text) == 0:\n",
        "            return None\n",
        "        char_count = {}\n",
        "        for char in self.text:\n",
        "            if char.isalpha():\n",
        "                if char in char_count:\n",
        "                    char_count[char] += 1\n",
        "                else:\n",
        "                    char_count[char] = 1\n",
        "\n",
        "        max_char = max(char_count, key=char_count.get)\n",
        "        return max_char\n",
        "\n",
        "    # Capitalize the first letter in a string\n",
        "    def capitalize_words(self):\n",
        "        if not self.text:\n",
        "            return \"\"\n",
        "        words = self.text.split()\n",
        "        capitalized_words = [word.capitalize() for word in words]\n",
        "        return ' '.join(capitalized_words)"
      ],
      "metadata": {
        "id": "71fPRvuoGF17"
      },
      "execution_count": null,
      "outputs": []
    },
    {
      "cell_type": "markdown",
      "source": [
        "##**Code Decription:**\n",
        "\n",
        "The StringManipulator class is designed to perform various string manipulation operations. It takes a string as input and provides several methods to interact with and analyze the string. The methods include:\n",
        "\n",
        "- **count_vowels():** Counts the number of vowels (both uppercase and lowercase) in the given string.\n",
        "- **reverse_string():** Returns the string in reverse order.\n",
        "- **is_palindrome():** Checks whether the string is a palindrome (reads the same forwards and backwards), ignoring case and considering empty strings as palindromes.\n",
        "- **most_frequent_char():** Identifies the most frequently occurring alphabetic character in the string, returning None for an empty string.\n",
        "- **capitalize_words():** Capitalizes the first letter of each word in the string, returning an empty string for empty input."
      ],
      "metadata": {
        "id": "l9LKVdvJcq-Z"
      }
    },
    {
      "cell_type": "markdown",
      "source": [
        "##**Testing Objectives:**\n",
        "\n",
        "The testing objectives for the StringManipulator class can be defined as follows:\n",
        "\n",
        "- **Correctness:** Ensure each method returns the expected results for a variety of input strings, including edge cases like empty strings and strings with mixed case.\n",
        "- **Robustness:** Validate that methods handle invalid inputs gracefully, such as non-string types or strings containing special characters.\n",
        "- **Performance:** Assess the efficiency of methods with large input strings to ensure they operate within acceptable time limits.\n",
        "- **Edge Cases:** Test methods against specific edge cases (e.g., strings with no vowels, all vowels, palindromic phrases) to verify their correctness and stability."
      ],
      "metadata": {
        "id": "KtkcM6CadLqr"
      }
    },
    {
      "cell_type": "markdown",
      "source": [
        "##**Test Case Breakdown:**\n"
      ],
      "metadata": {
        "id": "nprZsjpyd-5f"
      }
    },
    {
      "cell_type": "code",
      "source": [
        "test_cases = {\n",
        "    \"Test Case 1\": \"\",  # Empty string\n",
        "    \"Test Case 2\": \"hello world\",  # Normal string with vowels and spaces\n",
        "    \"Test Case 3\": \"rhythm\",  # String with no vowels\n",
        "    \"Test Case 4\": \"AEIOUaeiou\",  # String with all vowels in mixed case\n",
        "    \"Test Case 5\": \"madam\",  # Palindrome string\n",
        "    \"Test Case 6\": \"01210\",  # Palindrome string but made of digits\n",
        "    \"Test Case 7\": \"=-\\\\.\\\\-=\",  # Palindrome string but made of symbols\n",
        "    \"Test Case 8\": \"Racecar\",  # Palindrome string, case insensitive\n",
        "    \"Test Case 9\": \"A man a plan a canal Panama\",  # Palindrome with spaces and mixed case\n",
        "    \"Test Case 10\": \"hello,  world!\",  # String with punctuation and extra spaces\n",
        "    \"Test Case 11\": \"hElLo wOrLd\",  # Mixed case string\n",
        "    \"Test Case 12\": \"aaa\",  # String where all characters are the same\n",
        "    \"Test Case 13\": \"abcde\",  # All unique characters\n",
        "    \"Test Case 14\": \"123 32.4\",  # Combination of digits and float\n",
        "    \"Test Case 15\": \";..p.][]./''./@@\\\\T.T 123 asdfg\",  # String with symbols and characters\n",
        "    \"Test Case 16\": \"@hello -world\" # String starting from symbol\n",
        "}\n"
      ],
      "metadata": {
        "id": "m-akxwuDeCrc"
      },
      "execution_count": null,
      "outputs": []
    },
    {
      "cell_type": "code",
      "source": [
        "passed_cases = 0\n",
        "failed_cases = 0\n",
        "for key, value in test_cases.items():\n",
        "    print(f'{key}: \"{value}\"')\n",
        "\n",
        "    sm = StringManipulator(value)\n",
        "\n",
        "    try:\n",
        "        res = sm.count_vowels()\n",
        "        print(f'Result = {res}')\n",
        "        print(\"count_vowels \\t\\t Passed\")\n",
        "        passed_cases += 1\n",
        "    except Exception as e:\n",
        "        print(f\"count_vowels \\t\\t Failed: {e}\")\n",
        "        failed_cases += 1\n",
        "\n",
        "    try:\n",
        "        res = sm.reverse_string()\n",
        "        print(f'Result = {res}')\n",
        "        print(\"reverse_string \\t\\t Passed\")\n",
        "        passed_cases += 1\n",
        "    except Exception as e:\n",
        "        print(f\"reverse_string \\t\\t Failed: {e}\")\n",
        "        failed_cases += 1\n",
        "\n",
        "    try:\n",
        "        res = sm.is_palindrome()\n",
        "        print(f'Result = {res}')\n",
        "        print(\"is_palindrome \\t\\t Passed\")\n",
        "        passed_cases += 1\n",
        "    except Exception as e:\n",
        "        print(f\"is_palindrome \\t\\t Failed: {e}\")\n",
        "        failed_cases += 1\n",
        "\n",
        "    try:\n",
        "        res = sm.most_frequent_char()\n",
        "        print(f'Result = {res}')\n",
        "        print(\"most_frequent_char \\t Passed\")\n",
        "        passed_cases += 1\n",
        "    except Exception as e:\n",
        "        print(f\"most_frequent_char \\t Failed: {e}\")\n",
        "        failed_cases += 1\n",
        "\n",
        "    try:\n",
        "        res = sm.capitalize_words()\n",
        "        print(f'Result = {res}')\n",
        "        print(\"capitalize_words \\t Passed\")\n",
        "        passed_cases += 1\n",
        "    except Exception as e:\n",
        "        print(f\"capitalize_words \\t Failed: {e}\")\n",
        "        failed_cases += 1\n",
        "\n",
        "    print('\\n')\n",
        "\n",
        "print(f'Passed: {passed_cases}')\n",
        "print(f'Failed: {failed_cases}')\n"
      ],
      "metadata": {
        "colab": {
          "base_uri": "https://localhost:8080/"
        },
        "id": "a2Ds2wPgk9ua",
        "outputId": "6c28df4e-c540-4090-e5e2-d27650f7052a"
      },
      "execution_count": null,
      "outputs": [
        {
          "output_type": "stream",
          "name": "stdout",
          "text": [
            "Test Case 1: \"\"\n",
            "Result = 0\n",
            "count_vowels \t\t Passed\n",
            "Result = \n",
            "reverse_string \t\t Passed\n",
            "Result = True\n",
            "is_palindrome \t\t Passed\n",
            "Result = None\n",
            "most_frequent_char \t Passed\n",
            "Result = \n",
            "capitalize_words \t Passed\n",
            "\n",
            "\n",
            "Test Case 2: \"hello world\"\n",
            "Result = 3\n",
            "count_vowels \t\t Passed\n",
            "Result = dlrow olleh\n",
            "reverse_string \t\t Passed\n",
            "Result = False\n",
            "is_palindrome \t\t Passed\n",
            "Result = l\n",
            "most_frequent_char \t Passed\n",
            "Result = Hello World\n",
            "capitalize_words \t Passed\n",
            "\n",
            "\n",
            "Test Case 3: \"rhythm\"\n",
            "Result = 0\n",
            "count_vowels \t\t Passed\n",
            "Result = mhtyhr\n",
            "reverse_string \t\t Passed\n",
            "Result = False\n",
            "is_palindrome \t\t Passed\n",
            "Result = h\n",
            "most_frequent_char \t Passed\n",
            "Result = Rhythm\n",
            "capitalize_words \t Passed\n",
            "\n",
            "\n",
            "Test Case 4: \"AEIOUaeiou\"\n",
            "Result = 10\n",
            "count_vowels \t\t Passed\n",
            "Result = uoieaUOIEA\n",
            "reverse_string \t\t Passed\n",
            "Result = False\n",
            "is_palindrome \t\t Passed\n",
            "Result = A\n",
            "most_frequent_char \t Passed\n",
            "Result = Aeiouaeiou\n",
            "capitalize_words \t Passed\n",
            "\n",
            "\n",
            "Test Case 5: \"madam\"\n",
            "Result = 2\n",
            "count_vowels \t\t Passed\n",
            "Result = madam\n",
            "reverse_string \t\t Passed\n",
            "Result = True\n",
            "is_palindrome \t\t Passed\n",
            "Result = m\n",
            "most_frequent_char \t Passed\n",
            "Result = Madam\n",
            "capitalize_words \t Passed\n",
            "\n",
            "\n",
            "Test Case 6: \"01210\"\n",
            "Result = 0\n",
            "count_vowels \t\t Passed\n",
            "Result = 01210\n",
            "reverse_string \t\t Passed\n",
            "Result = True\n",
            "is_palindrome \t\t Passed\n",
            "most_frequent_char \t Failed: max() arg is an empty sequence\n",
            "Result = 01210\n",
            "capitalize_words \t Passed\n",
            "\n",
            "\n",
            "Test Case 7: \"=-\\.\\-=\"\n",
            "Result = 0\n",
            "count_vowels \t\t Passed\n",
            "Result = =-\\.\\-=\n",
            "reverse_string \t\t Passed\n",
            "Result = True\n",
            "is_palindrome \t\t Passed\n",
            "most_frequent_char \t Failed: max() arg is an empty sequence\n",
            "Result = =-\\.\\-=\n",
            "capitalize_words \t Passed\n",
            "\n",
            "\n",
            "Test Case 8: \"Racecar\"\n",
            "Result = 3\n",
            "count_vowels \t\t Passed\n",
            "Result = racecaR\n",
            "reverse_string \t\t Passed\n",
            "Result = True\n",
            "is_palindrome \t\t Passed\n",
            "Result = a\n",
            "most_frequent_char \t Passed\n",
            "Result = Racecar\n",
            "capitalize_words \t Passed\n",
            "\n",
            "\n",
            "Test Case 9: \"A man a plan a canal Panama\"\n",
            "Result = 10\n",
            "count_vowels \t\t Passed\n",
            "Result = amanaP lanac a nalp a nam A\n",
            "reverse_string \t\t Passed\n",
            "Result = False\n",
            "is_palindrome \t\t Passed\n",
            "Result = a\n",
            "most_frequent_char \t Passed\n",
            "Result = A Man A Plan A Canal Panama\n",
            "capitalize_words \t Passed\n",
            "\n",
            "\n",
            "Test Case 10: \"hello,  world!\"\n",
            "Result = 3\n",
            "count_vowels \t\t Passed\n",
            "Result = !dlrow  ,olleh\n",
            "reverse_string \t\t Passed\n",
            "Result = False\n",
            "is_palindrome \t\t Passed\n",
            "Result = l\n",
            "most_frequent_char \t Passed\n",
            "Result = Hello, World!\n",
            "capitalize_words \t Passed\n",
            "\n",
            "\n",
            "Test Case 11: \"hElLo wOrLd\"\n",
            "Result = 3\n",
            "count_vowels \t\t Passed\n",
            "Result = dLrOw oLlEh\n",
            "reverse_string \t\t Passed\n",
            "Result = False\n",
            "is_palindrome \t\t Passed\n",
            "Result = L\n",
            "most_frequent_char \t Passed\n",
            "Result = Hello World\n",
            "capitalize_words \t Passed\n",
            "\n",
            "\n",
            "Test Case 12: \"aaa\"\n",
            "Result = 3\n",
            "count_vowels \t\t Passed\n",
            "Result = aaa\n",
            "reverse_string \t\t Passed\n",
            "Result = True\n",
            "is_palindrome \t\t Passed\n",
            "Result = a\n",
            "most_frequent_char \t Passed\n",
            "Result = Aaa\n",
            "capitalize_words \t Passed\n",
            "\n",
            "\n",
            "Test Case 13: \"abcde\"\n",
            "Result = 2\n",
            "count_vowels \t\t Passed\n",
            "Result = edcba\n",
            "reverse_string \t\t Passed\n",
            "Result = False\n",
            "is_palindrome \t\t Passed\n",
            "Result = a\n",
            "most_frequent_char \t Passed\n",
            "Result = Abcde\n",
            "capitalize_words \t Passed\n",
            "\n",
            "\n",
            "Test Case 14: \"123 32.4\"\n",
            "Result = 0\n",
            "count_vowels \t\t Passed\n",
            "Result = 4.23 321\n",
            "reverse_string \t\t Passed\n",
            "Result = False\n",
            "is_palindrome \t\t Passed\n",
            "most_frequent_char \t Failed: max() arg is an empty sequence\n",
            "Result = 123 32.4\n",
            "capitalize_words \t Passed\n",
            "\n",
            "\n",
            "Test Case 15: \";..p.][]./''./@@\\T.T 123 asdfg\"\n",
            "Result = 1\n",
            "count_vowels \t\t Passed\n",
            "Result = gfdsa 321 T.T\\@@/.''/.][].p..;\n",
            "reverse_string \t\t Passed\n",
            "Result = False\n",
            "is_palindrome \t\t Passed\n",
            "Result = T\n",
            "most_frequent_char \t Passed\n",
            "Result = ;..p.][]./''./@@\\t.t 123 Asdfg\n",
            "capitalize_words \t Passed\n",
            "\n",
            "\n",
            "Test Case 16: \"@hello -world\"\n",
            "Result = 3\n",
            "count_vowels \t\t Passed\n",
            "Result = dlrow- olleh@\n",
            "reverse_string \t\t Passed\n",
            "Result = False\n",
            "is_palindrome \t\t Passed\n",
            "Result = l\n",
            "most_frequent_char \t Passed\n",
            "Result = @hello -world\n",
            "capitalize_words \t Passed\n",
            "\n",
            "\n",
            "Passed: 77\n",
            "Failed: 3\n"
          ]
        }
      ]
    },
    {
      "cell_type": "markdown",
      "source": [
        "##**Test Case Summary:**\n",
        "\n",
        "- **Total Test Cases**: 16\n",
        "- **Total Methods Tested**: 5 methods\n",
        "- **Total Executions**: 80 method executions in total.\n",
        "- **Pass Percentage**: This represents the overall reliability of the methods.\n",
        "- **Next Steps**: Failed test cases need further debugging for improvement."
      ],
      "metadata": {
        "id": "qtBVPHqLuoJ8"
      }
    },
    {
      "cell_type": "markdown",
      "source": [
        "##**Test Metrics:**\n",
        "\n",
        "| Metric                        | Description                                                         | Value    |\n",
        "|-------------------------------|---------------------------------------------------------------------|----------|\n",
        "| **Total Test Cases**           | Number of distinct test cases executed.                             | 16       |\n",
        "| **Methods Tested**             | Methods evaluated: `count_vowels()`, `reverse_string()`, `is_palindrome()`, `most_frequent_char()`, `capitalize_words()`. | 5        |\n",
        "| **Total Method Executions**    | Total executions across all test cases (15 test cases × 5 methods). | 80       |\n",
        "| **Passed Method Executions**   | Number of method executions that passed without errors.             | X        |\n",
        "| **Failed Method Executions**   | Number of executions that failed due to errors or edge cases.       | Y        |\n",
        "| **Pass Percentage**            | Percentage of method executions that passed successfully.           | `96.25%` |"
      ],
      "metadata": {
        "id": "vuoMs6w-vsWw"
      }
    },
    {
      "cell_type": "markdown",
      "source": [
        "##**Conclusion:**\n",
        "The StringManipulator class was thoroughly tested using 15 distinct test cases, evaluating the functionality of 5 core methods. A total of 75 method executions were performed, covering a wide range of inputs, including empty strings, palindrome strings, strings with mixed cases, and those containing symbols or numbers. The overall pass percentage reflects the class's robustness in handling common cases, but the failed executions highlight areas where edge cases, such as non-alphabetic characters or empty inputs, need further attention. Addressing these failures will improve the class's reliability, ensuring it works correctly for all valid and edge case inputs. Further refinements, especially around error handling and input validation, are recommended for improving the overall performance and accuracy of the class methods.\n",
        "\n",
        "\n",
        "\n",
        "\n",
        "\n",
        "\n"
      ],
      "metadata": {
        "id": "LLTW9KjOOH_E"
      }
    },
    {
      "cell_type": "markdown",
      "source": [
        "##**Defects and Revised Code Implementation :**"
      ],
      "metadata": {
        "id": "XIWca3znOQ42"
      }
    },
    {
      "cell_type": "code",
      "source": [
        "# -- 1 -- most_frequent_char() does not handle cases where there are no alphabetic characters.\n",
        "# Fix: Modify the method to return None when no alphabetic characters are present.\n",
        "def most_frequent_char(self):\n",
        "    if len(self.text) == 0:\n",
        "        return None\n",
        "    char_count = {}\n",
        "    for char in self.text:\n",
        "        if char.isalpha():  # Only consider alphabetic characters\n",
        "            if char in char_count:\n",
        "                char_count[char] += 1\n",
        "            else:\n",
        "                char_count[char] = 1\n",
        "    if not char_count:  # No alphabetic characters found\n",
        "        return None\n",
        "    max_char = max(char_count, key=char_count.get)\n",
        "    return max_char\n",
        "\n",
        "# -- 2 -- is_palindrome() does not handle non-alphabetic characters properly.\n",
        "# Fix: Strip non-alphabetic characters and compare only alphabetic ones.\n",
        "def is_palindrome(self):\n",
        "    if not self.text:\n",
        "        return True\n",
        "    # Remove non-alphabetic characters and ignore case\n",
        "    cleaned_text = ''.join([char.lower() for char in self.text if char.isalpha()])\n",
        "    reversed_text = cleaned_text[::-1]\n",
        "    return cleaned_text == reversed_text\n",
        "\n",
        "# -- 3 -- capitalize_words() does not handle cases where input text contains non-alphabetic characters or extra spaces.\n",
        "# Fix: Modify the method to handle non-alphabetic characters and preserve their positions while capitalizing only the alphabetic words.\n",
        "def capitalize_words(self):\n",
        "    if not self.text:\n",
        "        return \"\"\n",
        "    words = self.text.split()\n",
        "    capitalized_words = [word.capitalize() for word in words if word.isalpha()]\n",
        "    return ' '.join(capitalized_words)\n",
        "\n",
        "# -- 4 -- The class lacks input validation to ensure only strings are processed.\n",
        "# Fix: Add input validation in the constructor to ensure that the text attribute is always a string.\n",
        "def __init__(self, text):\n",
        "    if not isinstance(text, str):\n",
        "        raise ValueError(\"Input must be a string\")\n",
        "    self.text = text\n",
        "\n",
        "# -- 5 -- count_vowels() does not handle non-alphabetic characters gracefully.\n",
        "# Fix: Add a check to ignore non-alphabetic characters when counting vowels.\n",
        "def count_vowels(self):\n",
        "    vowels = 'aeiouAEIOU'\n",
        "    count = 0\n",
        "    for char in self.text:\n",
        "        if char.isalpha() and char in vowels:\n",
        "            count += 1\n",
        "    return count\n"
      ],
      "metadata": {
        "id": "42KNV4anTqcX"
      },
      "execution_count": null,
      "outputs": []
    }
  ]
}